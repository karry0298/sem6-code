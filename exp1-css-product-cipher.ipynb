{
 "cells": [
  {
   "cell_type": "code",
   "execution_count": 134,
   "metadata": {},
   "outputs": [],
   "source": [
    "ALPHA = \"ABCDEFGHIJKLMNOPQRSTUVWXYZ\"\n",
    "alpha = {}\n",
    "beta = {}\n",
    "for i,a in enumerate(ALPHA):\n",
    "    alpha[a] = i\n",
    "    beta[i] = a"
   ]
  },
  {
   "cell_type": "code",
   "execution_count": 135,
   "metadata": {},
   "outputs": [],
   "source": [
    "def getVal(arr):\n",
    "    val = []\n",
    "    for a in arr:\n",
    "        val.append( alpha[a] )\n",
    "    \n",
    "    return val"
   ]
  },
  {
   "cell_type": "code",
   "execution_count": 136,
   "metadata": {},
   "outputs": [],
   "source": [
    "\n",
    "key = \"ALOHA\"\n",
    "msg = \"MAYDAYISNEAR\"\n",
    "keyVal = getVal(key)\n",
    "msgVal = getVal(msg)\n"
   ]
  },
  {
   "cell_type": "code",
   "execution_count": 137,
   "metadata": {},
   "outputs": [
    {
     "name": "stdout",
     "output_type": "stream",
     "text": [
      "Vernam CT is  MLMKAYTGUEAC\n"
     ]
    }
   ],
   "source": [
    "verPt = []\n",
    "\n",
    "for i,m in enumerate(msgVal):\n",
    "    k = keyVal[ i%(len(key)) ]\n",
    "    verPt.append( ( m + k )%26 )\n",
    "\n",
    "vernamCt = list( map( lambda x: beta[x]  , verPt) )\n",
    "\n",
    "print( \"Vernam CT is \" , ''.join( vernamCt ) )"
   ]
  },
  {
   "cell_type": "code",
   "execution_count": 138,
   "metadata": {},
   "outputs": [],
   "source": [
    "def pusher(_msg , arr, dupKey):\n",
    "\n",
    "    for k in _msg:\n",
    "            \n",
    "        if k not in dupKey:\n",
    "            \n",
    "            if len( arr ) == 0 or len( arr[-1] ) % 5 == 0:\n",
    "                arr.append( [] )\n",
    "                \n",
    "            arr[-1].append( k )\n",
    "            dupKey.append( k )"
   ]
  },
  {
   "cell_type": "code",
   "execution_count": 139,
   "metadata": {},
   "outputs": [],
   "source": [
    "def makePair(arr):\n",
    "    \n",
    "    if len(arr)%2 != 0:\n",
    "        arr.append('X')\n",
    "    ans = []\n",
    "    for i in range(0, len(arr)-1,2 ):\n",
    "        if arr[i] == arr[i+1]:\n",
    "            arr[i+1] = 'X'\n",
    "            \n",
    "        ans.append( [ arr[i] , arr[i+1] ] )\n",
    "    \n",
    "    return ans\n",
    "    \n",
    "    "
   ]
  },
  {
   "cell_type": "code",
   "execution_count": 140,
   "metadata": {},
   "outputs": [],
   "source": [
    "keyPf = \"FUNNYDAY\"\n",
    "pALPHA = \"ABCDEFGHIKLMNOPQRSTUVWXYZ\" # Since I = J\n",
    "\n",
    "playFair = []\n",
    "dupKey = []\n",
    "\n",
    "pusher( keyPf , playFair , dupKey ) #Pushing Key\n",
    "pusher( pALPHA, playFair, dupKey )  #Pushing remaining Alphabets  \n",
    "\n",
    "pairTxt = makePair( vernamCt )\n"
   ]
  },
  {
   "cell_type": "code",
   "execution_count": 141,
   "metadata": {},
   "outputs": [],
   "source": [
    "def finder( ch ):\n",
    "    for i in range(5):\n",
    "        for j in range(5):\n",
    "            if playFair[i][j] == ch:\n",
    "                return (i,j)\n",
    "\n",
    "    "
   ]
  },
  {
   "cell_type": "code",
   "execution_count": 144,
   "metadata": {},
   "outputs": [],
   "source": [
    "cipher = []\n",
    "#PlayFair\n",
    "for p in pairTxt:\n",
    "    a,b = p[0],p[1]\n",
    "    posAi, posAj = finder(a)\n",
    "    posBi, posBj = finder(b)\n",
    "    tarAi,tarAj,tarBi,tarBj = 0, 0, 0, 0\n",
    "    \n",
    "    #Same Column\n",
    "    if posAj == posBj:\n",
    "        tarAi, tarAj = (posAi+1)%5 , posAj\n",
    "        tarBi, tarBj = (posBi+1)%5 , posBj\n",
    "        \n",
    "    #Same Row\n",
    "    elif posAi == posBi:\n",
    "        tarAj, tarAi = (posAj+1)%5 , posAi\n",
    "        tarBj, tarBi = (posBj+1)%5 , posBi\n",
    "    \n",
    "    #Rectangle\n",
    "    else:\n",
    "        tarAi, tarAj = posAi, posBj\n",
    "        tarBi, tarBj = posBi, posAj\n",
    "        \n",
    "    cipher.append( playFair[tarAi][tarAj] )\n",
    "    cipher.append( playFair[tarBi][tarBj] )\n"
   ]
  },
  {
   "cell_type": "code",
   "execution_count": 143,
   "metadata": {},
   "outputs": [
    {
     "name": "stdout",
     "output_type": "stream",
     "text": [
      "Playfair CT is HMHLEFZAYBBE\n"
     ]
    }
   ],
   "source": [
    "print( \"Playfair CT is\" , ''.join(cipher) )"
   ]
  }
 ],
 "metadata": {
  "kernelspec": {
   "display_name": "Python 3",
   "language": "python",
   "name": "python3"
  },
  "language_info": {
   "codemirror_mode": {
    "name": "ipython",
    "version": 3
   },
   "file_extension": ".py",
   "mimetype": "text/x-python",
   "name": "python",
   "nbconvert_exporter": "python",
   "pygments_lexer": "ipython3",
   "version": "3.6.8"
  }
 },
 "nbformat": 4,
 "nbformat_minor": 1
}
